{
 "cells": [
  {
   "cell_type": "code",
   "execution_count": 1,
   "id": "7b59117a",
   "metadata": {},
   "outputs": [
    {
     "name": "stdout",
     "output_type": "stream",
     "text": [
      " Volume in drive C is OSDisk\n",
      " Volume Serial Number is E277-031D\n",
      "\n",
      " Directory of C:\\Users\\Snair1\\OneDrive - Knex\\Desktop\\MSU Data Analytics\\Movies-ETL\n",
      "\n",
      "08/01/2022  10:19 PM    <DIR>          .\n",
      "08/01/2022  10:19 PM    <DIR>          ..\n",
      "08/01/2022  10:19 PM    <DIR>          .ipynb_checkpoints\n",
      "07/31/2022  10:24 PM    <DIR>          archive\n",
      "07/30/2022  04:55 PM       238,862,293 archive.zip\n",
      "08/01/2022  09:40 PM                25 config.py\n",
      "08/01/2022  10:19 PM           446,918 Extract.ipynb\n",
      "07/31/2022  09:45 PM            15,281 Movielens Extract .ipynb\n",
      "07/30/2022  04:56 PM        34,445,126 movies_metadata.csv\n",
      "07/31/2022  10:24 PM        25,389,657 ratings.csv\n",
      "07/30/2022  03:56 PM                12 README.md\n",
      "08/01/2022  10:19 PM                72 Untitled.ipynb\n",
      "07/30/2022  03:56 PM         6,163,508 wikipedia-movies.json\n",
      "08/01/2022  09:40 PM    <DIR>          __pycache__\n",
      "               9 File(s)    305,322,892 bytes\n",
      "               5 Dir(s)  120,452,149,248 bytes free\n"
     ]
    }
   ],
   "source": [
    "!dir"
   ]
  },
  {
   "cell_type": "code",
   "execution_count": null,
   "id": "68440b57",
   "metadata": {},
   "outputs": [],
   "source": []
  }
 ],
 "metadata": {
  "kernelspec": {
   "display_name": "Python 3 (ipykernel)",
   "language": "python",
   "name": "python3"
  },
  "language_info": {
   "codemirror_mode": {
    "name": "ipython",
    "version": 3
   },
   "file_extension": ".py",
   "mimetype": "text/x-python",
   "name": "python",
   "nbconvert_exporter": "python",
   "pygments_lexer": "ipython3",
   "version": "3.7.13"
  }
 },
 "nbformat": 4,
 "nbformat_minor": 5
}
